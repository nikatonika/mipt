{
  "nbformat": 4,
  "nbformat_minor": 0,
  "metadata": {
    "colab": {
      "provenance": []
    },
    "kernelspec": {
      "name": "python3",
      "display_name": "Python 3"
    },
    "language_info": {
      "name": "python"
    }
  },
  "cells": [
    {
      "cell_type": "markdown",
      "metadata": {
        "id": "dWcE-y-N-2fE"
      },
      "source": [
        "# Угадай число\n",
        "Нужно написать программу, которая угадывает число за минимальное число попыток.\n",
        "\n",
        "## Условия соревнования\n",
        "- Компьютер загадывает целое число от 1 до 100, и нам его нужно угадать. Под «угадать», подразумевается «написать программу, которая угадывает число».    \n",
        "- Алгоритм учитывает информацию о том, больше ли случайное число или меньше нужного нам.\n",
        "- Необходимо добиться того, чтобы программа угадывала число меньше, чем за 20 попыток.\n"
      ]
    },
    {
      "cell_type": "markdown",
      "source": [
        "# **Первый вариант**"
      ],
      "metadata": {
        "id": "u-t2uVXNHlL4"
      }
    },
    {
      "cell_type": "code",
      "execution_count": 4,
      "metadata": {
        "colab": {
          "base_uri": "https://localhost:8080/"
        },
        "id": "iMGOjXjf93Nn",
        "outputId": "65bb6090-13a6-400d-99be-5ccad935c92b"
      },
      "outputs": [
        {
          "output_type": "stream",
          "name": "stdout",
          "text": [
            "Попытка 1: Мое число больше 50.\n",
            "Попытка 2: Мое число меньше 75.\n",
            "Попытка 3: Мое число больше 62.\n",
            "Попытка 4: Мое число меньше 68.\n",
            "Попытка 5: Мое число меньше 65.\n",
            "Поздравляем! Вы угадали число 63 за 6 попыток.\n"
          ]
        }
      ],
      "source": [
        "import random\n",
        "\n",
        "def guess_number():\n",
        "    min_number = 1\n",
        "    max_number = 100\n",
        "    target_number = random.randint(min_number, max_number)\n",
        "    attempts = 0\n",
        "\n",
        "    while True:\n",
        "        guess = (min_number + max_number) // 2  # Угадываем середину диапазона\n",
        "        attempts += 1\n",
        "\n",
        "        if guess == target_number:\n",
        "            print(f\"Поздравляем! Вы угадали число {target_number} за {attempts} попыток.\")\n",
        "            break\n",
        "        elif guess < target_number:\n",
        "            print(f\"Попытка {attempts}: Мое число больше {guess}.\")\n",
        "            min_number = guess + 1\n",
        "        else:\n",
        "            print(f\"Попытка {attempts}: Мое число меньше {guess}.\")\n",
        "            max_number = guess - 1\n",
        "\n",
        "guess_number()"
      ]
    },
    {
      "cell_type": "markdown",
      "source": [
        "# **Второй вариант**"
      ],
      "metadata": {
        "id": "D3dUNihNDt9p"
      }
    },
    {
      "cell_type": "code",
      "source": [
        "import numpy as np\n",
        "\n",
        "def binary_search_predict(number: int) -> int:\n",
        "    \"\"\"Угадываем число с помощью бинарного поиска\n",
        "\n",
        "    Args:\n",
        "        number (int): Загаданное число.\n",
        "\n",
        "    Returns:\n",
        "        int: Число попыток.\n",
        "    \"\"\"\n",
        "    count = 0\n",
        "    min_range = 1\n",
        "    max_range = 100\n",
        "\n",
        "    while True:\n",
        "        count += 1\n",
        "        predict = (min_range + max_range) // 2\n",
        "\n",
        "        if predict == number:\n",
        "            break\n",
        "        elif predict < number:\n",
        "            min_range = predict + 1\n",
        "        else:\n",
        "            max_range = predict - 1\n",
        "\n",
        "    return count\n",
        "\n",
        "def score_game(predict_func) -> int:\n",
        "    \"\"\"Оцениваем среднее количество попыток для угадывания\n",
        "\n",
        "    Args:\n",
        "        predict_func (function): Функция для угадывания.\n",
        "\n",
        "    Returns:\n",
        "        int: Среднее количество попыток.\n",
        "    \"\"\"\n",
        "    count_attempts = []\n",
        "    np.random.seed(1)\n",
        "    random_numbers = np.random.randint(1, 101, size=(1000))\n",
        "\n",
        "    for number in random_numbers:\n",
        "        count_attempts.append(predict_func(number))\n",
        "\n",
        "    average_score = int(np.mean(count_attempts))\n",
        "    print(f\"Алгоритм угадывает число в среднем за {average_score} попыток\")\n",
        "    return average_score\n",
        "\n",
        "if __name__ == \"__main__\":\n",
        "    score_game(binary_search_predict)"
      ],
      "metadata": {
        "colab": {
          "base_uri": "https://localhost:8080/"
        },
        "id": "4koTMxdr-xoF",
        "outputId": "9a011cc8-2268-4fbb-a482-e0206d9647fd"
      },
      "execution_count": 5,
      "outputs": [
        {
          "output_type": "stream",
          "name": "stdout",
          "text": [
            "Алгоритм угадывает число в среднем за 5 попыток\n"
          ]
        }
      ]
    }
  ]
}